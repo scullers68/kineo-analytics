#Test Cell
# When the notebook is executed by the Build process, this cell is ignored. 
# See the `Test Cell` section below for further details.
# Dim_sessions is created by passing 'session_origin' to the function
# Dim_scopes is created by passing 'scopes' to the function

# additional_parameters = "{ \"token\": \"test-default\", \"name\": \"session_origin\" }"
additional_parameters = "{ \"token\": \"HIDDEN\", \"name\": \"social_question-input-adapt_en_itemsquestion_correctness-2\" }"
columns = "[{\"id\": \"attemptId\",\"name\": \"attemptId\",\"type\": 6,\"oid\": \"4e5497ec-364f-4d55-ba31-e04358a959a8\"},{\"id\": \"contentId\",\"name\": \"contentId\",\"type\": 18,\"oid\": \"f74cfe4a-5086-4c24-96a7-d5359f176059\"},{\"id\": \"contentType\",\"name\": \"contentType\",\"type\": 18,\"oid\": \"c22aa607-a2fe-488e-983f-dc9152826d3b\"},{\"id\": \"date\",\"name\": \"date\",\"type\": 18,\"oid\": \"6be6f096-e4d2-4104-aceb-f4840e73df3e\"},{\"id\": \"datetime\",\"name\": \"datetime\",\"type\": 18,\"oid\": \"f313d0fc-e711-4b8b-a8d8-fd607f96553b\"},{\"id\": \"duration\",\"name\": \"duration\",\"type\": 8,\"oid\": \"5f1b9570-7384-4228-afe0-2b96356e8adc\"},{\"id\": \"interactions\",\"name\": \"interactions\",\"type\": 8,\"oid\": \"1b212597-8474-490e-9629-952a05e5c4ec\"},{\"id\": \"isDeleted\",\"name\": \"isDeleted\",\"type\": 18,\"oid\": \"54ac9c8a-62db-4cbd-b1ba-3a38ea7a51a1\"},{\"id\": \"isLive\",\"name\": \"isLive\",\"type\": 18,\"oid\": \"547d3445-d119-4604-8082-0b4b6819b483\"},{\"id\": \"origin\",\"name\": \"origin\",\"type\": 18,\"oid\": \"c473ee3f-74f4-4de2-a598-799357544709\"},{\"id\": \"scope\",\"name\": \"scope\",\"type\": 18,\"oid\": \"98bc2a01-6e2e-4445-9b8a-378a1f4d9b9b\"},{\"id\": \"sessionId\",\"name\": \"sessionId\",\"type\": 18,\"oid\": \"2c47e54b-8247-4e84-9b7f-574488dec2d2\"},{\"id\": \"status\",\"name\": \"status\",\"type\": 18,\"oid\": \"d5c508af-278f-481d-bbdc-be61e9bf552c\"},{\"id\": \"userId\",\"name\": \"userId\",\"type\": 18,\"oid\": \"968d9880-dafb-48f6-bfe7-9b2f954f0e5b\"}]"

import pandas as pd
import json
import sys 
import requests
from datetime import datetime
from datetime import timezone

add_param = json.loads(additional_parameters)

dt = datetime.now(timezone.utc)
utc_time = dt.replace(tzinfo=timezone.utc)
utc_timestamp = utc_time.timestamp()
# &skipCache=true&forcerun=true
url=f'https://contentdata.kineoadapt.com/didactdatav2/dataprocessing/job/run/?name={add_param["name"]}&access_token={add_param["token"]}&accept=text/plain'
print(url)
try:
    df_result = pd.read_csv(url)
    print('data fetched')
except Exception as e:
    print('data failed')
    print(e)
    df_result = None

if (df_result is None):
    # if url failed
    if 'sisense_conn' in locals():
        # load columns from previous successful attempt if running as part of a build process
        url_suffix = '/api/v2/datamodels/schema'
        params = {}
        params['title'] = sisense_conn.cube_name
        headers = sisense_conn.headers
        headers['Host'] = 'example.com'
        headers['Content-Type'] = 'application/json'
        url = sisense_conn.sisense_base_url + url_suffix
        response = requests.get(url, headers=headers, params=params, timeout=1200)
        elasticube_config = json.loads(response.text)
        datasets = elasticube_config['datasets']
        for dataset in datasets:
            tables = dataset['schema']['tables']
            # note: if the didact name and the sisense name don't match, this will fail
            # add_param['name'] is the didact job name, table['name'] is the sisense table name
            table = [table for table in tables if table['name']==add_param['name']]
            if table:
                # load columns from found dataset.table.columns (the previous schema)
                columns_json = table[0]['columns']
                break
    else:
        # !WILL FAIL HERE IF dataprocessing RIGHT ISN'T SELECTED
        # load columns from variables at the top of the file if running in jupyter
        columns_json = json.loads(columns)
    columns_json = pd.json_normalize(columns_json)
    # create dataframe with correct columns but no data
    df_result = pd.DataFrame(columns=columns_json['id'])
	
# Make sure the results are as expected (Optional)
df_result.head()
print(df_result)

# monitor the df_result datatype (Optional)
df_result.dtypes
    